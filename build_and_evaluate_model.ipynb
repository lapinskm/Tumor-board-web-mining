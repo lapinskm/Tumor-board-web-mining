{
 "cells": [
  {
   "cell_type": "markdown",
   "metadata": {},
   "source": [
    "# Load file with train and test set."
   ]
  },
  {
   "cell_type": "code",
   "execution_count": 2,
   "metadata": {},
   "outputs": [
    {
     "name": "stdout",
     "output_type": "stream",
     "text": [
      "train set size: (100, 3)\n",
      "test set size:  (48, 2)\n"
     ]
    }
   ],
   "source": [
    "train_set = pd.read_csv(\"./train.csv\")\n",
    "print(\"train set size: \"+ str(np.shape(train_set)))\n",
    "train_doc_ids = train_set[\"doc_id\"]\n",
    "train_labels  = train_set[\"label\" ]\n",
    "\n",
    "test_set  = pd.read_csv(\"./test.csv\")\n",
    "print(\"test set size:  \"+ str(np.shape(test_set)))\n",
    "test_doc_ids = test_set[\"doc_id\"]"
   ]
  },
  {
   "cell_type": "markdown",
   "metadata": {},
   "source": [
    "For this sizes of train set it's unlikely we can do any sophisticated convolutional with embeddings model it is much less samples than it would be meaningfull. We have to fall back to bag of words. If I had more time I would consider using pre-trained embedding to count close neighbours of keywords to improve selection. If there was much more data I would use convolutional model. Slightly less data would be necessary if I was able to find some pre-trained german language model to be core of our predictor. As these pages has german text so we cant use easily some pre-trained english language model(e.g. BERT) at least not without massive amount of samples to adapt it into german."
   ]
  },
  {
   "cell_type": "markdown",
   "metadata": {},
   "source": [
    "# Load file with keywords and assigned cancer type, add more keywords.\n",
    "I've browsed files with the most valuable label \"3\" to find what might be useful to add."
   ]
  },
  {
   "cell_type": "code",
   "execution_count": 1,
   "metadata": {},
   "outputs": [
    {
     "name": "stdout",
     "output_type": "stream",
     "text": [
      "number of keywords: 126\n",
      "number of categories: 36\n"
     ]
    }
   ],
   "source": [
    "import pandas as pd\n",
    "import numpy as np\n",
    "keyword_df = pd.read_csv(\"keyword2tumor_type.csv\")\n",
    "\n",
    "custom_keywords = pd.DataFrame([[\"Tumorboard\", \"Tumorboard\"],\n",
    "                                [\"Tumorboards\", \"Tumorboard\"],\n",
    "                                [\"Tumorkonferenz\", \"Tumorboard\"],\n",
    "                                [\"Tumorkonferenzen\", \"Tumorboard\"],\n",
    "                                [\"Zweitmeinung\", \"Tumorboard\"],\n",
    "                                [\"Leiter\", \"Tumorboard\"],\n",
    "                                [\"Vertreter\", \"Tumorboard\"],\n",
    "                                [\"Anmeldeschluss\",\"Tag\"],\n",
    "                                [\"Montag\",\"Tag\"],\n",
    "                                [\"Dienstag\",\"Tag\"],\n",
    "                                [\"Mittwoch\",\"Tag\"],\n",
    "                                [\"Donnerstag\",\"Tag\"],\n",
    "                                [\"Freitag\",\"Tag\"],\n",
    "                                [\"Samstag\",\"Tag\"],\n",
    "                                [\"Sonntag\",\"Tag\"],\n",
    "                                [\"Chirurg\",\"Arze\"],\n",
    "                                [\"Chirurgin\",\"Artz\"],\n",
    "                                [\"Onkologen\",\"Artz\"],\n",
    "                                [\"Onkologin\",\"Artz\"],\n",
    "                                [\"Dermatologe\",\"Artz\"],\n",
    "                                [\"Dermatologin\",\"Artz\"],\n",
    "                                [\"Gynäkologe\",\"Artz\"],\n",
    "                                [\"Gynäkologin\",\"Artz\"],\n",
    "                                [\"Urologe\",\"Artz\"],\n",
    "                                [\"Urologin\",\"Artz\"]\n",
    "                               ],\n",
    "                               \n",
    "                                columns=[\"keyword\", \"tumor_type\"])\n",
    "\n",
    "keyword_df = keyword_df.append(custom_keywords)\n",
    "\n",
    "print(\"number of keywords: \" + str(np.shape(keyword_df)[0]))\n",
    "print(\"number of categories: \" + str(len(np.unique(keyword_df[[\"tumor_type\"]]))))\n",
    "#keyword_df = custom_keywords\n",
    "#print(keyword_df)"
   ]
  },
  {
   "cell_type": "markdown",
   "metadata": {},
   "source": [
    "# Feature extraction\n",
    "Lets extract some features for bag of words model. Helper functions implementing steps of pre-processing."
   ]
  },
  {
   "cell_type": "code",
   "execution_count": 3,
   "metadata": {},
   "outputs": [],
   "source": [
    "def filePathFromDocId(doc_id, data_dir=\"./htmls\"):\n",
    "    return data_dir+\"/\"+str(doc_id)+\".html\"\n",
    "\n",
    "import html2text\n",
    "def textFromHtml(html_str):\n",
    "    html2textInstance = html2text.HTML2Text()\n",
    "    html2textInstance.ignore_links=True\n",
    "    html2textInstance.single_line_break = True\n",
    "    text = html2textInstance.handle(html_str)\n",
    "    return ' '.join(text.split())\n",
    "\n",
    "import spacy\n",
    "parser = spacy.load('de')\n",
    "def tokenize(text):\n",
    "    doc = parser(text)\n",
    "    with doc.retokenize() as retokenizer:\n",
    "        for ent in doc.ents:\n",
    "            retokenizer.merge(doc[ent.start:ent.end], attrs={\"LEMMA\": ent.text})\n",
    "    return [x.lemma_ for x in doc if not x.is_punct and not x.is_stop]\n",
    "\n",
    "def countKeyWords(tokenized_str, keywords):\n",
    "    return [(keyword, tokenized_str.count(keyword)) for keyword in keywords]\n",
    "\n",
    "def categoryKeyWords(keyword_df, category):\n",
    "    category_items = keyword_df[\"tumor_type\"] == category\n",
    "    return keyword_df[\"keyword\"][category_items]\n",
    "\n",
    "def within(item, container):\n",
    "    for elem in container:\n",
    "        if elem == item:\n",
    "            return True\n",
    "    return False\n",
    "\n",
    "def sumSelectedKeyWordCounts(keyword_counts, keywords_to_sum):\n",
    "    count_sum = 0\n",
    "    for keyword, count in keyword_counts:\n",
    "        if within(keyword, keywords_to_sum):\n",
    "            count_sum = count_sum + count\n",
    "    return count_sum\n",
    "    \n",
    "def aggregateKeyWordCountsByCategory(keyword_counts, keyword_df):\n",
    "\n",
    "    unique_categories = np.unique(keyword_df[\"tumor_type\"])\n",
    "    ret = []\n",
    "    for category in unique_categories:\n",
    "        keywords_for_category = categoryKeyWords(keyword_df, category)\n",
    "        category_count = sumSelectedKeyWordCounts(keyword_counts, keywords_for_category)\n",
    "        ret.append((category, category_count))\n",
    "    return ret\n",
    "\n",
    "def tupleListAsDict_(tup, di): \n",
    "    di = dict(tup) \n",
    "    return di   \n",
    "\n",
    "def tupleListAsDict(tuple_list):\n",
    "    dictionary = {} \n",
    "    return (tupleListAsDict_(tuple_list, dictionary))\n",
    "\n",
    "\n",
    "def extractFeaturesFromDoc(doc_id, keyword_df, use_keywords=False):\n",
    "    filePath = filePathFromDocId(doc_id)\n",
    "    fileHandle = open(filePath, \"rb\")\n",
    "    doc = fileHandle.read().decode('utf-8',errors='ignore')\n",
    "    doc = textFromHtml(doc)\n",
    "    doc = tokenize(doc)\n",
    "    features = []\n",
    "    keyword_counts = countKeyWords(doc,keyword_df[\"keyword\"])\n",
    "    if use_keywords:\n",
    "            return tupleListAsDict(keyword_counts)\n",
    "    category_counts = aggregateKeyWordCountsByCategory(keyword_counts,keyword_df)\n",
    "    return tupleListAsDict(category_counts)\n",
    "    \n",
    "def extractFeatures(doc_ids, keyword_df, use_keywords=False):\n",
    "    feature_df = pd.DataFrame()\n",
    "    for id_ in doc_ids:\n",
    "         feature_df = feature_df.append(extractFeaturesFromDoc(id_, keyword_df, use_keywords), ignore_index = True)\n",
    "    return feature_df"
   ]
  },
  {
   "cell_type": "markdown",
   "metadata": {},
   "source": [
    "## For easier comparation store features based on bag of words and aggregated to categories"
   ]
  },
  {
   "cell_type": "code",
   "execution_count": 4,
   "metadata": {},
   "outputs": [],
   "source": [
    "train_keyword_features = extractFeatures(train_doc_ids, keyword_df,True)\n",
    "test_keyword_features = extractFeatures(test_doc_ids, keyword_df, True)\n",
    "\n",
    "train_category_features = extractFeatures(train_doc_ids, keyword_df)\n",
    "test_category_features = extractFeatures(test_doc_ids, keyword_df)"
   ]
  },
  {
   "cell_type": "markdown",
   "metadata": {},
   "source": [
    "## Inspect shapes of extracted data"
   ]
  },
  {
   "cell_type": "code",
   "execution_count": 5,
   "metadata": {},
   "outputs": [
    {
     "name": "stdout",
     "output_type": "stream",
     "text": [
      "(100, 40)\n",
      "(48, 40)\n",
      "(100, 151)\n",
      "(48, 151)\n",
      "(100,)\n"
     ]
    }
   ],
   "source": [
    "print(np.shape(train_category_features))\n",
    "print(np.shape(test_category_features))\n",
    "\n",
    "print(np.shape(train_keyword_features))\n",
    "print(np.shape(test_keyword_features))\n",
    "\n",
    "print(np.shape(train_labels))"
   ]
  },
  {
   "cell_type": "markdown",
   "metadata": {},
   "source": [
    "# Spliting labeled set to evaluate model and extracted features\n",
    "Split this already thin dataset to test and learn to get insight into expected performance and check which features should be used."
   ]
  },
  {
   "cell_type": "code",
   "execution_count": 6,
   "metadata": {},
   "outputs": [
    {
     "name": "stdout",
     "output_type": "stream",
     "text": [
      "(70, 151) (70,)\n",
      "(30, 151) (30,)\n"
     ]
    }
   ],
   "source": [
    "from sklearn.model_selection import train_test_split\n",
    "#X_train, X_test, y_train, y_test = train_test_split(\n",
    "#train_category_features, train_labels, test_size=0.2, random_state=42)\n",
    "\n",
    "X_train, X_test, y_train, y_test = train_test_split(\n",
    "train_keyword_features, train_labels, test_size=0.3, random_state=42)\n",
    "\n",
    "print(np.shape(X_train),np.shape(y_train))\n",
    "print(np.shape(X_test),np.shape(y_test))"
   ]
  },
  {
   "cell_type": "markdown",
   "metadata": {},
   "source": [
    "# Build and fit random forest model\n",
    "As previously mentioned random forest was chosen for it's robustnes in dealing with large amount of features compared to amount of records."
   ]
  },
  {
   "cell_type": "code",
   "execution_count": 7,
   "metadata": {},
   "outputs": [
    {
     "data": {
      "text/plain": [
       "RandomForestClassifier(class_weight='balanced', random_state=42)"
      ]
     },
     "execution_count": 7,
     "metadata": {},
     "output_type": "execute_result"
    }
   ],
   "source": [
    "from sklearn.ensemble import RandomForestClassifier\n",
    "forest_model = RandomForestClassifier(n_estimators=100, class_weight = \"balanced\",random_state=42)\n",
    "forest_model.fit(X_train, y_train)"
   ]
  },
  {
   "cell_type": "markdown",
   "metadata": {},
   "source": [
    "# Evaluation\n",
    "Evaluate using confusion matrix accuracy and weighted accuracy"
   ]
  },
  {
   "cell_type": "code",
   "execution_count": 8,
   "metadata": {},
   "outputs": [
    {
     "name": "stdout",
     "output_type": "stream",
     "text": [
      "[[21  0  0]\n",
      " [ 1 42  0]\n",
      " [ 0  0  6]]\n",
      "0.9857142857142858\n",
      "0.9922480620155039\n",
      "[[ 3  7  1]\n",
      " [ 1 15  0]\n",
      " [ 1  2  0]]\n",
      "0.6\n",
      "0.4034090909090909\n"
     ]
    }
   ],
   "source": [
    "from sklearn.metrics import confusion_matrix, accuracy_score, balanced_accuracy_score\n",
    "y_test_pred = forest_model.predict(X_test)\n",
    "y_train_pred = forest_model.predict(X_train)\n",
    "\n",
    "print(confusion_matrix(y_train,y_train_pred))\n",
    "print(accuracy_score(y_train,y_train_pred))\n",
    "print(balanced_accuracy_score(y_train,y_train_pred))\n",
    "\n",
    "print(confusion_matrix(y_test,y_test_pred))\n",
    "print(accuracy_score(y_test,y_test_pred))\n",
    "print(balanced_accuracy_score(y_test,y_test_pred))\n"
   ]
  },
  {
   "cell_type": "markdown",
   "metadata": {},
   "source": [
    "class \"3\" is very underrepresented, additionaly I've checked these failing examples and in many cases it looks like they are falsely assigned this class."
   ]
  },
  {
   "cell_type": "markdown",
   "metadata": {},
   "source": [
    "## ROC AUC\n",
    "To check whether model is better than chance evaluate results for each class using ROC curve and ROC AUC score"
   ]
  },
  {
   "cell_type": "code",
   "execution_count": 9,
   "metadata": {},
   "outputs": [
    {
     "data": {
      "image/png": "[encoded data removed]",
      "text/plain": [
       "<Figure size 432x288 with 1 Axes>"
      ]
     },
     "metadata": {
      "needs_background": "light"
     },
     "output_type": "display_data"
    },
    {
     "data": {
      "image/png": "[encoded data removed]",
      "text/plain": [
       "<Figure size 432x288 with 1 Axes>"
      ]
     },
     "metadata": {
      "needs_background": "light"
     },
     "output_type": "display_data"
    },
    {
     "data": {
      "image/png": "[encoded data removed]",
      "text/plain": [
       "<Figure size 432x288 with 1 Axes>"
      ]
     },
     "metadata": {
      "needs_background": "light"
     },
     "output_type": "display_data"
    }
   ],
   "source": [
    "import matplotlib.pyplot as plt\n",
    "from sklearn.metrics import roc_curve, roc_auc_score\n",
    "\n",
    "y_test_score  = forest_model.predict_proba(X_test)\n",
    "y_train_score = forest_model.predict_proba(X_train)\n",
    "\n",
    "y_test_one_hot = pd.get_dummies(y_test)\n",
    "y_train_one_hot = pd.get_dummies(y_train)\n",
    "\n",
    "\n",
    "fpr_1_test, tpr_1_test, _ = roc_curve(y_test_one_hot[1], y_test_score[:,0])\n",
    "fpr_2_test, tpr_2_test, _ = roc_curve(y_test_one_hot[2], y_test_score[:,1])\n",
    "fpr_3_test, tpr_3_test, _ = roc_curve(y_test_one_hot[3], y_test_score[:,2])\n",
    "\n",
    "auc_1_test = roc_auc_score(y_test_one_hot[1], y_test_score[:,0])\n",
    "auc_2_test = roc_auc_score(y_test_one_hot[2], y_test_score[:,1])\n",
    "auc_3_test = roc_auc_score(y_test_one_hot[3], y_test_score[:,2])\n",
    "\n",
    "#fpr_1_train, tpr_1_train, _ = roc_curve(y_train_one_hot[1], y_train_score[:,0])\n",
    "#fpr_2_train, tpr_2_train, _ = roc_curve(y_train_one_hot[2], y_train_score[:,1])\n",
    "#fpr_3_train, tpr_3_train, _ = roc_curve(y_train_one_hot[3], y_train_score[:,2])\n",
    "\n",
    "#auc_1_train = roc_auc_score(y_train_one_hot[1], y_train_score[:,0])\n",
    "#auc_2_train = roc_auc_score(y_train_one_hot[2], y_train_score[:,1])\n",
    "#auc_3_train = roc_auc_score(y_train_one_hot[3], y_train_score[:,2])\n",
    "\n",
    "def plotRoc(fpr, tpr, auc, classname):\n",
    "    plt.figure()\n",
    "    lw = 2\n",
    "    plt.plot(fpr, tpr, color='darkorange',\n",
    "             lw=lw, label='ROC curve (area = %0.2f)' % auc)\n",
    "    plt.plot([0, 1], [0, 1], color='navy', lw=lw, linestyle='--')\n",
    "    plt.xlim([0.0, 1.0])\n",
    "    plt.ylim([0.0, 1.05])\n",
    "    plt.xlabel('False Positive Rate')\n",
    "    plt.ylabel('True Positive Rate')\n",
    "    plt.title('Receiver operating characteristic for class '+classname)\n",
    "    plt.legend(loc=\"lower right\")\n",
    "    plt.show()\n",
    "\n",
    "# \n",
    "#plotRoc(fpr_1_train, tpr_1_train, auc_1_train, \"1_train\")\n",
    "#plotRoc(fpr_2_train, tpr_2_train, auc_2_train, \"2_train\")\n",
    "#plotRoc(fpr_3_train, tpr_3_train, auc_3_train, \"3_train\")\n",
    "\n",
    "plotRoc(fpr_1_test, tpr_1_test, auc_1_test, \"1\")\n",
    "plotRoc(fpr_2_test, tpr_2_test, auc_2_test, \"2\")\n",
    "plotRoc(fpr_3_test, tpr_3_test, auc_3_test, \"3\")\n",
    "\n"
   ]
  },
  {
   "cell_type": "markdown",
   "metadata": {},
   "source": [
    "As image shows model is slightly better than chance in predicting all of the classes. Class \"3\" is handled worse - mostly because of it's extremely low representation in set."
   ]
  },
  {
   "cell_type": "markdown",
   "metadata": {},
   "source": [
    "# Generate Submission file with final predictions\n",
    "Teach final model with all avaliable marked samples to get best possible results for unlabeled set."
   ]
  },
  {
   "cell_type": "code",
   "execution_count": 11,
   "metadata": {},
   "outputs": [],
   "source": [
    "final_forest_model = RandomForestClassifier(n_estimators=100, class_weight = \"balanced\",random_state=42)\n",
    "\n",
    "final_forest_model.fit(train_keyword_features, train_labels)\n",
    "\n",
    "test_predicted_label = final_forest_model.predict(test_keyword_features)\n",
    "output_data = pd.DataFrame() \n",
    "output_data[\"doc_id\"] = test_doc_ids\n",
    "output_data[\"prediction\"] = pd.DataFrame(test_predicted_label)\n",
    "output_data.to_csv(\"submission.csv\",index=False)"
   ]
  },
  {
   "cell_type": "markdown",
   "metadata": {},
   "source": [
    "# Expectations\n",
    "Hopefully model will be performing slightly better than tests on part of labeled data - due to larger set which was used to train final model."
   ]
  },
  {
   "cell_type": "markdown",
   "metadata": {},
   "source": [
    "# What Would I do better if I had more time?\n",
    "As I already mentioned I woudl use pre-trained word embeddings to capture closest neighbours of selected keywords.\n",
    "If also it come with more data I would build convolutional model feed by these embeddings. I would also add cross-validation. If another model was used I would add model parameter optimization (grid search of cnn meta-parameters) based on this cross-validation."
   ]
  },
  {
   "cell_type": "markdown",
   "metadata": {},
   "source": [
    "# Issues with model\n",
    "* Small dataset and poor balance makes teaching model difficult and renders lots of modern tools inadequate.\n",
    "* Lack of cross-validation makes it difficult to accurately measure model accuracy.\n",
    "* Low predictive power\n"
   ]
  },
  {
   "cell_type": "markdown",
   "metadata": {},
   "source": [
    "# Performance evaluation\n",
    "* Feature extraction is slow. To improve it's speed it would be possible to pre-process each files separately. To avoid bottleneck with IO files should be all read to memory before rest of processing, and intermediary steps should be stored to avoid using IO each time some tweaking in feature extraction.\n",
    "* Training and prediction on  of model 12 core pc was almost instant - no need to improvement assuming keeping random forest as model. Otherwise (conv model) we need to keep it relatively simple to reduce use of resources.  \n"
   ]
  }
 ],
 "metadata": {
  "kernelspec": {
   "display_name": "Python 3",
   "language": "python",
   "name": "python3"
  },
  "language_info": {
   "codemirror_mode": {
    "name": "ipython",
    "version": 3
   },
   "file_extension": ".py",
   "mimetype": "text/x-python",
   "name": "python",
   "nbconvert_exporter": "python",
   "pygments_lexer": "ipython3",
   "version": "3.8.5"
  }
 },
 "nbformat": 4,
 "nbformat_minor": 4
}
